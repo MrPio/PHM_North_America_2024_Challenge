{
 "nbformat": 4,
 "nbformat_minor": 0,
 "metadata": {
  "colab": {
   "provenance": [],
   "toc_visible": true,
   "gpuType": "T4"
  },
  "kernelspec": {
   "name": "python3",
   "display_name": "Python 3 (ipykernel)",
   "language": "python"
  },
  "language_info": {
   "name": "python"
  },
  "accelerator": "GPU"
 },
 "cells": [
  {
   "metadata": {},
   "cell_type": "code",
   "outputs": [],
   "execution_count": null,
   "source": [
    "import matplotlib.pyplot as plt\n",
    "import numpy as np\n",
    "import pandas as pd\n",
    "import seaborn as sns\n",
    "import torch\n",
    "from kan import KAN as PyKAN\n",
    "from sklearn.metrics import accuracy_score, precision_score, recall_score, f1_score\n",
    "from sklearn.metrics import confusion_matrix\n",
    "from sklearn.model_selection import train_test_split\n",
    "from torch import nn, optim\n",
    "from tqdm import tqdm\n",
    "\n",
    "plt.rcParams.update({'font.size': 18})\n",
    "device = torch.device(\"cuda\" if torch.cuda.is_available() else \"cpu\")\n",
    "device"
   ]
  },
  {
   "metadata": {},
   "cell_type": "markdown",
   "source": [
    "# Fault Detection\n",
    "In this notebook we'll train a `PyKAN` network to distinguish between *faulty* and *not-faulty* operating regimes."
   ]
  },
  {
   "metadata": {},
   "cell_type": "markdown",
   "source": "## Load dataset"
  },
  {
   "metadata": {},
   "cell_type": "code",
   "outputs": [],
   "execution_count": null,
   "source": [
    "features = ['trq_measured', 'oat', 'mgt', 'pa', 'ias', 'np', 'ng', 'trq_margin']\n",
    "target = 'faulty'"
   ]
  },
  {
   "metadata": {},
   "cell_type": "code",
   "outputs": [],
   "execution_count": null,
   "source": [
    "df_x = pd.read_csv('../dataset/X_train.csv')\n",
    "df_y = pd.read_csv('../dataset/y_train.csv')\n",
    "df_x_normalized = (df_x - df_x.mean()) / df_x.std()\n",
    "df_x_normalized['id'] = df_x['id']\n",
    "df = df_x_normalized.merge(df_y, on='id').drop(columns='id')\n",
    "\n",
    "X = df[features].values\n",
    "y = df[target].values"
   ]
  },
  {
   "metadata": {},
   "cell_type": "code",
   "outputs": [],
   "execution_count": null,
   "source": [
    "# 10% Train + 45% Validation + 45% Test\n",
    "df_train_x, df_valid_test_x, df_train_y, df_valid_test_y = train_test_split(X, y, test_size=0.9, stratify=y,\n",
    "                                                                            random_state=42)\n",
    "df_valid_x, df_test_x, df_valid_y, df_test_y = train_test_split(df_valid_test_x, df_valid_test_y, test_size=0.5,\n",
    "                                                                stratify=df_valid_test_y, random_state=42)\n",
    "len(df_train_x), len(df_valid_x), len(df_test_x)"
   ]
  },
  {
   "metadata": {},
   "cell_type": "code",
   "outputs": [],
   "execution_count": null,
   "source": [
    "train_x = torch.tensor(df_train_x, dtype=torch.float32).to(device)\n",
    "train_y = torch.tensor(df_train_y, dtype=torch.long).to(device)\n",
    "\n",
    "valid_x = torch.tensor(df_valid_x, dtype=torch.float32).to(device)\n",
    "valid_y = torch.tensor(df_valid_y, dtype=torch.long).to(device)\n",
    "\n",
    "test_x = torch.tensor(df_test_x, dtype=torch.float32).to(device)\n",
    "test_y = torch.tensor(df_test_y, dtype=torch.long).to(device)"
   ]
  },
  {
   "metadata": {},
   "cell_type": "markdown",
   "source": "## Define the train() and test() functions"
  },
  {
   "metadata": {},
   "cell_type": "code",
   "outputs": [],
   "execution_count": null,
   "source": [
    "def score(confidence: torch.Tensor, true_labels: torch.Tensor) -> torch.Tensor:\n",
    "    pred_labels: torch.Tensor = torch.where(confidence > 0.5, 1, 0)\n",
    "    confidence = torch.sigmoid(confidence)\n",
    "\n",
    "    # Mask for valid confidences (between 0 and 1)\n",
    "    valid_confidence_mask = (confidence >= 0) & (confidence <= 1)\n",
    "    # Mask for valid labels (0 or 1)\n",
    "    valid_label_mask = (pred_labels == 0) | (pred_labels == 1)\n",
    "    # Combined mask for valid inputs\n",
    "    valid_mask = valid_confidence_mask & valid_label_mask\n",
    "\n",
    "    # Invert confidence for incorrect predictions\n",
    "    adjusted_confidence = torch.where(pred_labels == 0, 1 - confidence * 2, (confidence - 0.5) * 2)\n",
    "    adjusted_confidence = torch.where(pred_labels == true_labels, adjusted_confidence, -adjusted_confidence)\n",
    "\n",
    "    # Calculate scores for \"healthy\" (true label == 0)\n",
    "    healthy_scores = adjusted_confidence.clone()\n",
    "\n",
    "    # Calculate scores for \"faulty\" (true label == 1)\n",
    "    faulty_scores = torch.where(\n",
    "        adjusted_confidence >= 0,\n",
    "        adjusted_confidence,\n",
    "        4 * adjusted_confidence ** 11 + adjusted_confidence\n",
    "    )\n",
    "\n",
    "    # Assign scores based on true labels\n",
    "    scores = torch.where(\n",
    "        true_labels == 0,\n",
    "        healthy_scores,\n",
    "        faulty_scores\n",
    "    )\n",
    "\n",
    "    # Only keep scores for valid entries\n",
    "    scores = torch.where(valid_mask, scores, -100.0)\n",
    "\n",
    "    return scores\n",
    "\n",
    "\n",
    "assert (torch.dist(\n",
    "    score(torch.tensor([9999, 1, -999]), torch.tensor([1, 1, 1])),\n",
    "    torch.tensor([1.0000, 0.4621, -5.0000])\n",
    ") < 0.0001)"
   ]
  },
  {
   "metadata": {},
   "cell_type": "code",
   "outputs": [],
   "execution_count": null,
   "source": [
    "def train(model, optimizer, epochs, batch_size=8192, false_neg_penalty=2.0):\n",
    "    criterion = nn.BCEWithLogitsLoss(pos_weight=torch.tensor([false_neg_penalty]).to(device))\n",
    "    scheduler = optim.lr_scheduler.ExponentialLR(optimizer, gamma=0.96)\n",
    "    train_losses = []\n",
    "    validation_losses = []\n",
    "    for epoch in range(epochs):\n",
    "        epoch_train_losses = []\n",
    "        epoch_validation_losses = []\n",
    "\n",
    "        # Training\n",
    "        model.train()\n",
    "        with tqdm(range(train_x.size(0) // batch_size)) as pbar:\n",
    "            for i in pbar:\n",
    "                x = train_x[i * batch_size:(i + 1) * batch_size]\n",
    "                y = train_y[i * batch_size:(i + 1) * batch_size]\n",
    "                optimizer.zero_grad()\n",
    "                confidence = model(x).squeeze()\n",
    "                loss = criterion(confidence, y.float())\n",
    "                loss.backward()\n",
    "                epoch_train_losses.append(loss.item())\n",
    "                optimizer.step(closure=lambda: loss)\n",
    "                pbar.set_postfix(loss=loss.item(), lr=optimizer.param_groups[0]['lr'])\n",
    "        scheduler.step()\n",
    "\n",
    "        # Validation\n",
    "        model.eval()\n",
    "        for i in range(valid_x.size(0) // batch_size):\n",
    "            x = valid_x[i * batch_size:(i + 1) * batch_size]\n",
    "            y = valid_y[i * batch_size:(i + 1) * batch_size]\n",
    "            confidence = model(x).squeeze()\n",
    "            loss = criterion(confidence, y.float())\n",
    "            loss.backward()\n",
    "            epoch_validation_losses.append(loss.item())\n",
    "\n",
    "        train_losses.append(np.mean(epoch_train_losses))\n",
    "        validation_losses.append(np.mean(epoch_validation_losses))\n",
    "\n",
    "    # Plot losses\n",
    "    plt.figure(figsize=(24, 8))\n",
    "    plt.plot(train_losses, label='Training loss')\n",
    "    plt.plot(validation_losses, label='Validation loss')\n",
    "    plt.legend()\n",
    "    plt.show()"
   ]
  },
  {
   "metadata": {},
   "cell_type": "code",
   "outputs": [],
   "execution_count": null,
   "source": [
    "def test(model, batch_size=8192):\n",
    "    model.eval()\n",
    "    scores = []\n",
    "    y_pred = []\n",
    "    for i in range(test_x.size(0) // batch_size):\n",
    "        x = test_x[i * batch_size:(i + 1) * batch_size]\n",
    "        y = test_y[i * batch_size:(i + 1) * batch_size]\n",
    "        confidence = model(x).squeeze()\n",
    "        scores.extend(score(confidence, y).tolist())\n",
    "        y_pred.extend(torch.where(torch.sigmoid(confidence) > 0.5, 1, 0).tolist())\n",
    "    labels = test_y.cpu()[:len(y_pred)]\n",
    "    acc = accuracy_score(labels, y_pred)\n",
    "    prec = precision_score(labels, y_pred)\n",
    "    rec = recall_score(labels, y_pred)\n",
    "    f1 = f1_score(labels, y_pred)\n",
    "    print(f'Avg Test Score: {sum(scores) / len(scores):.3f}')\n",
    "    print('-------------------------')\n",
    "    print(f\"Accuracy:  {acc:.3f}\")\n",
    "    print(f\"Precision: {prec:.3f}\")\n",
    "    print(f\"Recall:    {rec:.3f}\")\n",
    "    print(f\"F1-score:  {f1:.3f}\")\n",
    "    cm = confusion_matrix(labels, y_pred)\n",
    "    cm_percentage = cm.astype('float') / cm.sum() * 100\n",
    "    labels = np.array([[f'{value:.2f}%' for value in row] for row in cm_percentage])\n",
    "    plt.figure(figsize=(16, 10))\n",
    "    sns.heatmap(cm_percentage, annot=labels, fmt='', cmap=\"viridis\", xticklabels=[\"Nominal (0)\", \"Faulty (1)\"],\n",
    "                yticklabels=[\"Nominal (0)\", \"Faulty (1)\"])\n",
    "    plt.xlabel(\"Predicted label\")\n",
    "    plt.ylabel(\"Actual label\")\n",
    "    plt.title(\"Confusion matrix\")\n",
    "    plt.show()"
   ]
  },
  {
   "metadata": {},
   "cell_type": "markdown",
   "source": "# With CrossEntropyLoss"
  },
  {
   "metadata": {},
   "cell_type": "code",
   "outputs": [],
   "execution_count": null,
   "source": [
    "class Py_KAN(nn.Module):\n",
    "    def __init__(self, layers, grid_size=8):\n",
    "        super(Py_KAN, self).__init__()\n",
    "        self.model = PyKAN(width=layers, grid=grid_size, k=3, device=device)\n",
    "\n",
    "    def forward(self, x):\n",
    "        return self.model(x)"
   ]
  },
  {
   "metadata": {},
   "cell_type": "code",
   "outputs": [],
   "execution_count": null,
   "source": "pyKAN = Py_KAN(layers=[[8, 0], [1, 0], [1, 0]], grid_size=5)"
  },
  {
   "metadata": {},
   "cell_type": "code",
   "outputs": [],
   "execution_count": null,
   "source": "pyKAN.model = PyKAN.loadckpt('models/pykan_simple_grid-5.pt')"
  },
  {
   "metadata": {},
   "cell_type": "code",
   "outputs": [],
   "execution_count": null,
   "source": "train(pyKAN, optim.Adam(pyKAN.parameters(), lr=0.05), epochs=15, false_neg_penalty=2.0)"
  },
  {
   "metadata": {},
   "cell_type": "code",
   "outputs": [],
   "execution_count": null,
   "source": "test(pyKAN)"
  },
  {
   "metadata": {},
   "cell_type": "code",
   "outputs": [],
   "execution_count": null,
   "source": "pyKAN.model.saveckpt('models/pykan_simple_grid-5.pt')"
  },
  {
   "metadata": {},
   "cell_type": "code",
   "outputs": [],
   "execution_count": null,
   "source": [
    "pyKAN.model.plot(scale=1, in_vars=['t_mes', 'oat', 'mgt', 'pa', 'ias', 'np', 'ng', 't_mrg'], out_vars=['confidence'],\n",
    "                 varscale=0.75)"
   ]
  }
 ]
}
