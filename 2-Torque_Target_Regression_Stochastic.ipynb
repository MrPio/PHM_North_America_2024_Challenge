{
 "cells": [
  {
   "cell_type": "code",
   "id": "initial_id",
   "metadata": {
    "collapsed": true,
    "ExecuteTime": {
     "end_time": "2025-03-02T13:22:38.698264Z",
     "start_time": "2025-03-02T13:22:25.160222Z"
    }
   },
   "source": [
    "\n",
    "\n",
    "import numpy as np\n",
    "import pandas as pd\n",
    "import torch\n",
    "from kan import KAN as PyKAN\n",
    "from torch import nn, optim\n",
    "from tqdm import tqdm\n",
    "\n",
    "from efficient_kan.kan import KAN as EffKAN\n",
    "\n",
    "device = torch.device(\"cuda\" if torch.cuda.is_available() else \"cpu\")\n",
    "device"
   ],
   "outputs": [
    {
     "data": {
      "text/plain": [
       "device(type='cuda')"
      ]
     },
     "execution_count": 1,
     "metadata": {},
     "output_type": "execute_result"
    }
   ],
   "execution_count": 1
  },
  {
   "metadata": {},
   "cell_type": "markdown",
   "source": "### Load dataset",
   "id": "95ee109d8d9789d3"
  },
  {
   "metadata": {
    "ExecuteTime": {
     "end_time": "2025-03-02T13:22:38.714014Z",
     "start_time": "2025-03-02T13:22:38.703825Z"
    }
   },
   "cell_type": "code",
   "source": [
    "def create_dataset(train_x: torch.Tensor, train_y: torch.Tensor, test_size=0.3):\n",
    "    indices = torch.randperm(train_x.shape[0])\n",
    "    test_size = int(train_x.shape[0] * test_size)\n",
    "    test_indices, train_indices = indices[:test_size], indices[test_size:]\n",
    "    return {'train_input': train_x[train_indices].to(device), 'test_input': train_x[test_indices].to(device),\n",
    "            'train_label': train_y[train_indices].to(device), 'test_label': train_y[test_indices].to(device)}"
   ],
   "id": "c67062c073ebd6f8",
   "outputs": [],
   "execution_count": 2
  },
  {
   "metadata": {
    "ExecuteTime": {
     "end_time": "2025-03-02T14:21:08.116953Z",
     "start_time": "2025-03-02T14:21:07.397714Z"
    }
   },
   "cell_type": "code",
   "source": [
    "USE_SYNTHETIC_DATASET = False  # Generated with 2-Synthetic_Dataset.ipynb\n",
    "\n",
    "if USE_SYNTHETIC_DATASET:\n",
    "    df = pd.read_csv('dataset/synthetic.csv')\n",
    "    df_normalized = (df - df.mean()) / df.std()\n",
    "    df_x_normalized = df_normalized.drop(columns=['label'])\n",
    "    df_y_normalized = df_normalized['label']\n",
    "else:\n",
    "    df_x = pd.read_csv('dataset/X_train.csv').drop(columns=['id'])\n",
    "    df_y = pd.read_csv('dataset/y_train.csv').drop(columns=['id', 'faulty'])\n",
    "    df_y['trq_target'] = df_x['trq_measured'] / (df_y['trq_margin'] / 100 + 1)\n",
    "    df_x_normalized = (df_x - df_x.mean()) / df_x.std()\n",
    "    df_y_normalized = (df_y['trq_target'] - df_y['trq_target'].mean()) / df_y['trq_target'].std()\n",
    "    df_x_normalized.drop(columns=['trq_measured'], inplace=True)\n",
    "\n",
    "train_x_1 = torch.tensor(df_x_normalized.values, dtype=torch.float32, device=device)\n",
    "train_y_1 = torch.tensor(df_y_normalized.values, dtype=torch.float32, device=device).unsqueeze(1)\n",
    "assert (train_x_1.shape[0] == train_y_1.shape[0])"
   ],
   "id": "c58876efec7eafae",
   "outputs": [],
   "execution_count": 157
  },
  {
   "metadata": {
    "ExecuteTime": {
     "end_time": "2025-03-02T14:21:08.180241Z",
     "start_time": "2025-03-02T14:21:08.121400Z"
    }
   },
   "cell_type": "code",
   "source": [
    "# Downsample to 10%\n",
    "random_indices = np.random.choice(train_x_1.shape[0], size=train_x_1.shape[0] // 10, replace=False)\n",
    "train_x_10 = train_x_1[random_indices]\n",
    "train_y_10 = train_y_1[random_indices]\n",
    "# Downsample to 1%\n",
    "random_indices = np.random.choice(train_x_1.shape[0], size=train_x_1.shape[0] // 100, replace=False)\n",
    "train_x_100 = train_x_1[random_indices]\n",
    "train_y_100 = train_y_1[random_indices]"
   ],
   "id": "66ff76bc2b090985",
   "outputs": [],
   "execution_count": 158
  },
  {
   "metadata": {
    "ExecuteTime": {
     "end_time": "2025-03-02T14:32:28.773370Z",
     "start_time": "2025-03-02T14:32:28.755531Z"
    }
   },
   "cell_type": "code",
   "source": [
    "def train(model, optimizer, inputs: torch.Tensor, labels, epochs=5, batch_size=100, deterministic=False):\n",
    "    criterion_stochastic = nn.GaussianNLLLoss(reduction='mean')\n",
    "    criterion_deterministic = nn.MSELoss()\n",
    "    scheduler = optim.lr_scheduler.ExponentialLR(optimizer, gamma=0.95)\n",
    "    for epoch in range(epochs):\n",
    "        model.train()\n",
    "        with tqdm(range(inputs.size(0) // batch_size)) as pbar:\n",
    "            for i in pbar:\n",
    "                x = inputs[i * batch_size:(i + 1) * batch_size]\n",
    "                y = labels[i * batch_size:(i + 1) * batch_size]\n",
    "                optimizer.zero_grad()\n",
    "                if deterministic:\n",
    "                    output = model(x)\n",
    "                    loss = criterion_deterministic(output, y)\n",
    "                else:\n",
    "                    mu, log_var = model(x)\n",
    "                    loss = criterion_stochastic(mu, y.squeeze(), torch.exp(log_var))\n",
    "                loss.backward()\n",
    "                optimizer.step(closure=lambda: loss)\n",
    "                pbar.set_postfix(loss=loss.item(), lr=optimizer.param_groups[0]['lr'])\n",
    "        scheduler.step()"
   ],
   "id": "8c791f8ed54ecd1a",
   "outputs": [],
   "execution_count": 217
  },
  {
   "metadata": {},
   "cell_type": "markdown",
   "source": "### Train the KAN",
   "id": "7f990b42318da4bc"
  },
  {
   "metadata": {
    "ExecuteTime": {
     "end_time": "2025-03-02T14:48:03.691941Z",
     "start_time": "2025-03-02T14:48:03.675915Z"
    }
   },
   "cell_type": "code",
   "source": [
    "class Py_KAN(nn.Module):\n",
    "    def __init__(self, layers, grid_size=8):\n",
    "        super(Py_KAN, self).__init__()\n",
    "        self.model = PyKAN(width=layers, grid=grid_size, k=3, device=device)\n",
    "\n",
    "    def forward(self, x):\n",
    "        x = self.model(x)\n",
    "        mu = x[:, 0]\n",
    "        var = x[:, 1]\n",
    "        return mu, var"
   ],
   "id": "2d0bc35334398811",
   "outputs": [],
   "execution_count": 264
  },
  {
   "metadata": {
    "ExecuteTime": {
     "end_time": "2025-03-02T14:54:51.671429Z",
     "start_time": "2025-03-02T14:54:51.641466Z"
    }
   },
   "cell_type": "code",
   "source": "pyKAN = Py_KAN(layers=[6, 1, 2], grid_size=3)",
   "id": "f3dc7e0fdc7a4801",
   "outputs": [
    {
     "name": "stdout",
     "output_type": "stream",
     "text": [
      "checkpoint directory created: ./model\n",
      "saving model version 0.0\n"
     ]
    }
   ],
   "execution_count": 307
  },
  {
   "metadata": {
    "ExecuteTime": {
     "end_time": "2025-03-02T14:55:50.471011Z",
     "start_time": "2025-03-02T14:55:45.603141Z"
    }
   },
   "cell_type": "code",
   "source": [
    "train(pyKAN, optim.Adam(pyKAN.parameters(), lr=0.001), train_x_10, train_y_10, epochs=20,\n",
    "      batch_size=4096 * 2)"
   ],
   "id": "87aa4f6784a01b72",
   "outputs": [
    {
     "name": "stderr",
     "output_type": "stream",
     "text": [
      "100%|██████████| 9/9 [00:00<00:00, 33.92it/s, loss=-3.21, lr=0.001]\n",
      "100%|██████████| 9/9 [00:00<00:00, 33.72it/s, loss=-3.24, lr=0.00095]\n",
      "100%|██████████| 9/9 [00:00<00:00, 38.36it/s, loss=-3.25, lr=0.000902]\n",
      "100%|██████████| 9/9 [00:00<00:00, 39.38it/s, loss=-3.26, lr=0.000857]\n",
      "100%|██████████| 9/9 [00:00<00:00, 39.44it/s, loss=-3.27, lr=0.000815]\n",
      "100%|██████████| 9/9 [00:00<00:00, 38.44it/s, loss=-3.28, lr=0.000774]\n",
      "100%|██████████| 9/9 [00:00<00:00, 37.76it/s, loss=-3.28, lr=0.000735]\n",
      "100%|██████████| 9/9 [00:00<00:00, 40.01it/s, loss=-3.29, lr=0.000698]\n",
      "100%|██████████| 9/9 [00:00<00:00, 37.85it/s, loss=-3.29, lr=0.000663]\n",
      "100%|██████████| 9/9 [00:00<00:00, 41.89it/s, loss=-3.3, lr=0.00063] \n",
      "100%|██████████| 9/9 [00:00<00:00, 38.70it/s, loss=-3.3, lr=0.000599] \n",
      "100%|██████████| 9/9 [00:00<00:00, 37.45it/s, loss=-3.31, lr=0.000569]\n",
      "100%|██████████| 9/9 [00:00<00:00, 38.29it/s, loss=-3.31, lr=0.00054]\n",
      "100%|██████████| 9/9 [00:00<00:00, 37.56it/s, loss=-3.31, lr=0.000513]\n",
      "100%|██████████| 9/9 [00:00<00:00, 35.98it/s, loss=-3.32, lr=0.000488]\n",
      "100%|██████████| 9/9 [00:00<00:00, 39.14it/s, loss=-3.32, lr=0.000463]\n",
      "100%|██████████| 9/9 [00:00<00:00, 35.95it/s, loss=-3.33, lr=0.00044]\n",
      "100%|██████████| 9/9 [00:00<00:00, 36.03it/s, loss=-3.33, lr=0.000418]\n",
      "100%|██████████| 9/9 [00:00<00:00, 33.94it/s, loss=-3.34, lr=0.000397]\n",
      "100%|██████████| 9/9 [00:00<00:00, 37.55it/s, loss=-3.34, lr=0.000377]\n"
     ]
    }
   ],
   "execution_count": 314
  },
  {
   "metadata": {
    "ExecuteTime": {
     "end_time": "2025-03-02T14:54:04.711424Z",
     "start_time": "2025-03-02T14:54:04.691033Z"
    }
   },
   "cell_type": "code",
   "source": "pyKAN.model.saveckpt('models/torque_target_stochastic_pykan.pt')",
   "id": "7b1c11d3ccba075b",
   "outputs": [],
   "execution_count": 301
  },
  {
   "metadata": {
    "ExecuteTime": {
     "end_time": "2025-03-02T14:55:52.270861Z",
     "start_time": "2025-03-02T14:55:51.010910Z"
    }
   },
   "cell_type": "code",
   "source": [
    "pyKAN.model.plot(scale=1, tick=False, in_vars=['oat', 'mgt', 'pa', 'ias', 'np', 'ng'], out_vars=['μ', 'σ'],\n",
    "                 varscale=0.75)"
   ],
   "id": "d86d3f7c768dcaeb",
   "outputs": [
    {
     "data": {
      "text/plain": [
       "<Figure size 1000x800 with 12 Axes>"
      ],
      "image/png": "[encoded data removed]"
     },
     "metadata": {},
     "output_type": "display_data"
    }
   ],
   "execution_count": 315
  },
  {
   "metadata": {
    "ExecuteTime": {
     "end_time": "2025-03-02T15:01:46.505735Z",
     "start_time": "2025-03-02T15:01:46.430028Z"
    }
   },
   "cell_type": "code",
   "source": [
    "y_test = train_y_1[0:3].squeeze()\n",
    "output = pyKAN(train_x_1[0:3])\n",
    "print(y_test.round(decimals=3))\n",
    "print('-------------------------')\n",
    "print(output[0].round(decimals=3))\n",
    "print(output[1].round(decimals=3))"
   ],
   "id": "dd1989f0587acc07",
   "outputs": [
    {
     "name": "stdout",
     "output_type": "stream",
     "text": [
      "tensor([-0.2830, -1.2670, -0.4440], device='cuda:0')\n",
      "-------------------------\n",
      "tensor([-0.3250, -1.2810, -0.4400], device='cuda:0', grad_fn=<RoundBackward1>)\n",
      "tensor([-8.3390, -6.5200, -8.2000], device='cuda:0', grad_fn=<RoundBackward1>)\n"
     ]
    }
   ],
   "execution_count": 316
  },
  {
   "metadata": {},
   "cell_type": "markdown",
   "source": "### Train the EfficientKAN",
   "id": "a815fbe81635ec07"
  },
  {
   "metadata": {
    "ExecuteTime": {
     "end_time": "2025-03-02T14:35:41.472673Z",
     "start_time": "2025-03-02T14:35:41.456931Z"
    }
   },
   "cell_type": "code",
   "source": [
    "class Efficient_KAN(nn.Module):\n",
    "    def __init__(self, layers, grid_size=8):\n",
    "        super(Efficient_KAN, self).__init__()\n",
    "        self.model = EffKAN(layers,\n",
    "                            grid_size=grid_size,\n",
    "                            # grid_eps=1,\n",
    "                            # scale_base=0,\n",
    "                            # sp_trainable=False,\n",
    "                            # sb_trainable=False,\n",
    "                            # enable_standalone_scale_spline=False\n",
    "                            ).to(device)\n",
    "\n",
    "    def forward(self, x):\n",
    "        # x = x / dataset_size * 2 - 1\n",
    "        # x = x.view(-1, self.layers[0])\n",
    "        x = self.model(x)\n",
    "        mu = x[:, 0]\n",
    "        var = x[:, 1]  #F.softplus(x[:, 1]) + 1e-6\n",
    "        return mu, var"
   ],
   "id": "99bf617d5532bdeb",
   "outputs": [],
   "execution_count": 225
  },
  {
   "metadata": {
    "ExecuteTime": {
     "end_time": "2025-03-02T14:35:41.863595Z",
     "start_time": "2025-03-02T14:35:41.844950Z"
    }
   },
   "cell_type": "code",
   "source": "efficientKAN = Efficient_KAN(layers=[6, 6, 2], grid_size=5)",
   "id": "1fa1db4918aa6db2",
   "outputs": [],
   "execution_count": 226
  },
  {
   "metadata": {
    "ExecuteTime": {
     "end_time": "2025-03-02T14:35:51.550752Z",
     "start_time": "2025-03-02T14:35:43.227468Z"
    }
   },
   "cell_type": "code",
   "source": [
    "train(efficientKAN, optim.Adam(efficientKAN.parameters(), lr=0.01), train_x_10, train_y_10, epochs=50,\n",
    "      batch_size=4096)"
   ],
   "id": "db45afe39c7556a9",
   "outputs": [
    {
     "name": "stderr",
     "output_type": "stream",
     "text": [
      "100%|██████████| 18/18 [00:00<00:00, 41.54it/s, loss=0.00653, lr=0.01]\n",
      "100%|██████████| 18/18 [00:00<00:00, 106.61it/s, loss=-0.717, lr=0.0095]\n",
      "100%|██████████| 18/18 [00:00<00:00, 107.39it/s, loss=-1.64, lr=0.00903]\n",
      "100%|██████████| 18/18 [00:00<00:00, 115.06it/s, loss=-2.07, lr=0.00857]\n",
      "100%|██████████| 18/18 [00:00<00:00, 99.40it/s, loss=-2.3, lr=0.00815]\n",
      "100%|██████████| 18/18 [00:00<00:00, 110.66it/s, loss=-2.42, lr=0.00774]\n",
      "100%|██████████| 18/18 [00:00<00:00, 112.53it/s, loss=-1.67, lr=0.00735]\n",
      "100%|██████████| 18/18 [00:00<00:00, 115.00it/s, loss=-2.62, lr=0.00698]\n",
      "100%|██████████| 18/18 [00:00<00:00, 111.91it/s, loss=-2.82, lr=0.00663]\n",
      "100%|██████████| 18/18 [00:00<00:00, 115.57it/s, loss=-2.31, lr=0.0063]\n",
      "100%|██████████| 18/18 [00:00<00:00, 112.41it/s, loss=-2.28, lr=0.00599]\n",
      "100%|██████████| 18/18 [00:00<00:00, 112.69it/s, loss=-2.49, lr=0.00569]\n",
      "100%|██████████| 18/18 [00:00<00:00, 112.53it/s, loss=-2.67, lr=0.0054]\n",
      "100%|██████████| 18/18 [00:00<00:00, 116.07it/s, loss=-2.79, lr=0.00513]\n",
      "100%|██████████| 18/18 [00:00<00:00, 116.08it/s, loss=-2.87, lr=0.00488]\n",
      "100%|██████████| 18/18 [00:00<00:00, 113.49it/s, loss=-2.92, lr=0.00463]\n",
      "100%|██████████| 18/18 [00:00<00:00, 116.07it/s, loss=-2.98, lr=0.0044]\n",
      "100%|██████████| 18/18 [00:00<00:00, 121.98it/s, loss=-3.04, lr=0.00418]\n",
      "100%|██████████| 18/18 [00:00<00:00, 107.49it/s, loss=-3.1, lr=0.00397] \n",
      "100%|██████████| 18/18 [00:00<00:00, 119.79it/s, loss=-3.15, lr=0.00377]\n",
      "100%|██████████| 18/18 [00:00<00:00, 112.76it/s, loss=-3.21, lr=0.00358]\n",
      "100%|██████████| 18/18 [00:00<00:00, 112.45it/s, loss=-3.26, lr=0.00341]\n",
      "100%|██████████| 18/18 [00:00<00:00, 119.84it/s, loss=-3.15, lr=0.00324]\n",
      "100%|██████████| 18/18 [00:00<00:00, 112.39it/s, loss=-3.35, lr=0.00307]\n",
      "100%|██████████| 18/18 [00:00<00:00, 112.23it/s, loss=-3.37, lr=0.00292]\n",
      "100%|██████████| 18/18 [00:00<00:00, 110.12it/s, loss=-3.4, lr=0.00277] \n",
      "100%|██████████| 18/18 [00:00<00:00, 108.50it/s, loss=-3.44, lr=0.00264]\n",
      "100%|██████████| 18/18 [00:00<00:00, 116.04it/s, loss=-3.48, lr=0.0025]\n",
      "100%|██████████| 18/18 [00:00<00:00, 109.13it/s, loss=-2.94, lr=0.00238]\n",
      "100%|██████████| 18/18 [00:00<00:00, 116.06it/s, loss=-3.42, lr=0.00226]\n",
      "100%|██████████| 18/18 [00:00<00:00, 120.01it/s, loss=-3.52, lr=0.00215]\n",
      "100%|██████████| 18/18 [00:00<00:00, 110.04it/s, loss=-3.57, lr=0.00204]\n",
      "100%|██████████| 18/18 [00:00<00:00, 103.09it/s, loss=-3.61, lr=0.00194]\n",
      "100%|██████████| 18/18 [00:00<00:00, 115.97it/s, loss=-3.65, lr=0.00184]\n",
      "100%|██████████| 18/18 [00:00<00:00, 112.69it/s, loss=-3.68, lr=0.00175]\n",
      "100%|██████████| 18/18 [00:00<00:00, 123.99it/s, loss=-3.68, lr=0.00166]\n",
      "100%|██████████| 18/18 [00:00<00:00, 119.69it/s, loss=-3.69, lr=0.00158]\n",
      "100%|██████████| 18/18 [00:00<00:00, 120.34it/s, loss=-3.74, lr=0.0015]\n",
      "100%|██████████| 18/18 [00:00<00:00, 117.76it/s, loss=-3.76, lr=0.00142]\n",
      "100%|██████████| 18/18 [00:00<00:00, 106.39it/s, loss=-3.78, lr=0.00135]\n",
      "100%|██████████| 18/18 [00:00<00:00, 113.67it/s, loss=-3.81, lr=0.00129]\n",
      "100%|██████████| 18/18 [00:00<00:00, 109.29it/s, loss=-3.77, lr=0.00122]\n",
      "100%|██████████| 18/18 [00:00<00:00, 120.10it/s, loss=-3.83, lr=0.00116]\n",
      "100%|██████████| 18/18 [00:00<00:00, 114.95it/s, loss=-3.86, lr=0.0011]\n",
      "100%|██████████| 18/18 [00:00<00:00, 118.52it/s, loss=-3.87, lr=0.00105]\n",
      "100%|██████████| 18/18 [00:00<00:00, 107.11it/s, loss=-3.89, lr=0.000994]\n",
      "100%|██████████| 18/18 [00:00<00:00, 112.58it/s, loss=-3.87, lr=0.000945]\n",
      "100%|██████████| 18/18 [00:00<00:00, 112.38it/s, loss=-3.92, lr=0.000897]\n",
      "100%|██████████| 18/18 [00:00<00:00, 114.38it/s, loss=-3.92, lr=0.000853]\n",
      "100%|██████████| 18/18 [00:00<00:00, 111.18it/s, loss=-3.92, lr=0.00081]\n"
     ]
    }
   ],
   "execution_count": 227
  },
  {
   "metadata": {
    "ExecuteTime": {
     "end_time": "2025-03-02T14:37:33.466350Z",
     "start_time": "2025-03-02T14:37:33.450610Z"
    }
   },
   "cell_type": "code",
   "source": "torch.save(efficientKAN.model.state_dict(), 'models/torque_target_stochastic_effkan.pt')",
   "id": "1dc449d1409f5335",
   "outputs": [],
   "execution_count": 229
  },
  {
   "metadata": {
    "ExecuteTime": {
     "end_time": "2025-03-02T14:26:46.336574Z",
     "start_time": "2025-03-02T14:26:46.282994Z"
    }
   },
   "cell_type": "code",
   "source": [
    "efficientKAN.eval()\n",
    "for i in range(10):\n",
    "    x_test = train_x_1[i].unsqueeze(0)\n",
    "    y_test = train_y_1[i].unsqueeze(0)\n",
    "    output = efficientKAN(x_test)\n",
    "    print(y_test[0].item().__round__(2), '=>', output[0].item().__round__(3), output[1].item().__round__(3))"
   ],
   "id": "96c63221aae8a857",
   "outputs": [
    {
     "name": "stdout",
     "output_type": "stream",
     "text": [
      "-0.28 => -0.394 -1.851\n",
      "-1.27 => -1.271 -11.849\n",
      "-0.44 => -0.435 -10.134\n",
      "-0.3 => -0.317 -8.138\n",
      "-0.57 => -0.572 -12.036\n",
      "-0.86 => -0.857 -11.363\n",
      "1.49 => 1.842 -4.168\n",
      "-0.82 => -0.83 -7.416\n",
      "1.07 => 1.063 -6.2\n",
      "2.14 => 2.286 -3.543\n"
     ]
    }
   ],
   "execution_count": 206
  },
  {
   "metadata": {},
   "cell_type": "markdown",
   "source": "### MLP training",
   "id": "c45758c75340e0ee"
  },
  {
   "metadata": {
    "ExecuteTime": {
     "end_time": "2025-03-02T14:25:10.011687Z",
     "start_time": "2025-03-02T14:25:09.996625Z"
    }
   },
   "cell_type": "code",
   "source": [
    "class MLP(nn.Module):\n",
    "    def __init__(self, layers_size, deterministic=False):\n",
    "        super(MLP, self).__init__()\n",
    "        layers = []\n",
    "        for i in range(len(layers_size) - 1):\n",
    "            layers.append(nn.Linear(layers_size[i], layers_size[i + 1]))\n",
    "            if i < len(layers_size) - 2:  # Add activation for all layers except the last one\n",
    "                layers.append(nn.Sigmoid())\n",
    "        self.model = nn.Sequential(*layers)\n",
    "        self.deterministic = deterministic\n",
    "\n",
    "    def forward(self, x):\n",
    "        output = self.model(x)\n",
    "        if self.deterministic:\n",
    "            return output\n",
    "        else:\n",
    "            mu = output[:, 0]\n",
    "            var = output[:, 1]\n",
    "            return mu, var"
   ],
   "id": "9196b72f8ea42196",
   "outputs": [],
   "execution_count": 187
  },
  {
   "metadata": {
    "ExecuteTime": {
     "end_time": "2025-03-02T14:25:10.351151Z",
     "start_time": "2025-03-02T14:25:10.336998Z"
    }
   },
   "cell_type": "code",
   "source": "mlp = MLP([6, 256, 256, 2], deterministic=False).to(device)",
   "id": "e2d29fb417331c4b",
   "outputs": [],
   "execution_count": 188
  },
  {
   "metadata": {
    "ExecuteTime": {
     "end_time": "2025-03-02T14:25:30.255414Z",
     "start_time": "2025-03-02T14:25:26.076578Z"
    }
   },
   "cell_type": "code",
   "source": [
    "train(mlp, optim.Adam(mlp.parameters(), lr=.01), train_x_10, train_y_10, epochs=50,\n",
    "      batch_size=4096, deterministic=False)"
   ],
   "id": "981f03ef2059776a",
   "outputs": [
    {
     "name": "stderr",
     "output_type": "stream",
     "text": [
      "100%|██████████| 18/18 [00:00<00:00, 64.24it/s, loss=0.0361, lr=0.01] \n",
      "100%|██████████| 18/18 [00:00<00:00, 200.28it/s, loss=-0.73, lr=0.0095]\n",
      "100%|██████████| 18/18 [00:00<00:00, 197.69it/s, loss=-1.22, lr=0.00903]\n",
      "100%|██████████| 18/18 [00:00<00:00, 235.85it/s, loss=-1.58, lr=0.00857]\n",
      "100%|██████████| 18/18 [00:00<00:00, 225.53it/s, loss=-1.95, lr=0.00815]\n",
      "100%|██████████| 18/18 [00:00<00:00, 230.72it/s, loss=-2.3, lr=0.00774]\n",
      "100%|██████████| 18/18 [00:00<00:00, 262.65it/s, loss=-2.6, lr=0.00735]\n",
      "100%|██████████| 18/18 [00:00<00:00, 217.64it/s, loss=-2.88, lr=0.00698]\n",
      "100%|██████████| 18/18 [00:00<00:00, 247.11it/s, loss=-3.12, lr=0.00663]\n",
      "100%|██████████| 18/18 [00:00<00:00, 229.99it/s, loss=-3.34, lr=0.0063]\n",
      "100%|██████████| 18/18 [00:00<00:00, 253.07it/s, loss=-3.56, lr=0.00599]\n",
      "100%|██████████| 18/18 [00:00<00:00, 246.29it/s, loss=-3.71, lr=0.00569]\n",
      "100%|██████████| 18/18 [00:00<00:00, 227.69it/s, loss=-3.83, lr=0.0054]\n",
      "100%|██████████| 18/18 [00:00<00:00, 233.98it/s, loss=-3.9, lr=0.00513]\n",
      "100%|██████████| 18/18 [00:00<00:00, 221.51it/s, loss=-3.96, lr=0.00488]\n",
      "100%|██████████| 18/18 [00:00<00:00, 241.08it/s, loss=-4.2, lr=0.00463]\n",
      "100%|██████████| 18/18 [00:00<00:00, 237.69it/s, loss=-4.32, lr=0.0044]\n",
      "100%|██████████| 18/18 [00:00<00:00, 237.72it/s, loss=-4.38, lr=0.00418]\n",
      "100%|██████████| 18/18 [00:00<00:00, 231.74it/s, loss=-2.5, lr=0.00397]\n",
      "100%|██████████| 18/18 [00:00<00:00, 237.12it/s, loss=-4.24, lr=0.00377]\n",
      "100%|██████████| 18/18 [00:00<00:00, 222.37it/s, loss=-4.25, lr=0.00358]\n",
      "100%|██████████| 18/18 [00:00<00:00, 234.49it/s, loss=-4.38, lr=0.00341]\n",
      "100%|██████████| 18/18 [00:00<00:00, 253.21it/s, loss=-4.46, lr=0.00324]\n",
      "100%|██████████| 18/18 [00:00<00:00, 225.09it/s, loss=-4.54, lr=0.00307]\n",
      "100%|██████████| 18/18 [00:00<00:00, 224.60it/s, loss=-2.66, lr=0.00292]\n",
      "100%|██████████| 18/18 [00:00<00:00, 225.35it/s, loss=-4.44, lr=0.00277]\n",
      "100%|██████████| 18/18 [00:00<00:00, 219.30it/s, loss=-4.58, lr=0.00264]\n",
      "100%|██████████| 18/18 [00:00<00:00, 260.83it/s, loss=-4.66, lr=0.0025]\n",
      "100%|██████████| 18/18 [00:00<00:00, 241.93it/s, loss=-4.73, lr=0.00238]\n",
      "100%|██████████| 18/18 [00:00<00:00, 223.42it/s, loss=-4.56, lr=0.00226]\n",
      "100%|██████████| 18/18 [00:00<00:00, 256.98it/s, loss=-4.67, lr=0.00215]\n",
      "100%|██████████| 18/18 [00:00<00:00, 243.72it/s, loss=-4.72, lr=0.00204]\n",
      "100%|██████████| 18/18 [00:00<00:00, 224.81it/s, loss=-4.78, lr=0.00194]\n",
      "100%|██████████| 18/18 [00:00<00:00, 225.86it/s, loss=-4.83, lr=0.00184]\n",
      "100%|██████████| 18/18 [00:00<00:00, 224.30it/s, loss=-4.85, lr=0.00175]\n",
      "100%|██████████| 18/18 [00:00<00:00, 233.43it/s, loss=-4.89, lr=0.00166]\n",
      "100%|██████████| 18/18 [00:00<00:00, 255.28it/s, loss=-4.81, lr=0.00158]\n",
      "100%|██████████| 18/18 [00:00<00:00, 257.16it/s, loss=-4.91, lr=0.0015]\n",
      "100%|██████████| 18/18 [00:00<00:00, 224.86it/s, loss=-4.94, lr=0.00142]\n",
      "100%|██████████| 18/18 [00:00<00:00, 224.82it/s, loss=-4.93, lr=0.00135]\n",
      "100%|██████████| 18/18 [00:00<00:00, 243.39it/s, loss=-4.94, lr=0.00129]\n",
      "100%|██████████| 18/18 [00:00<00:00, 243.71it/s, loss=-4.94, lr=0.00122]\n",
      "100%|██████████| 18/18 [00:00<00:00, 224.76it/s, loss=-4.99, lr=0.00116]\n",
      "100%|██████████| 18/18 [00:00<00:00, 265.07it/s, loss=-5, lr=0.0011]\n",
      "100%|██████████| 18/18 [00:00<00:00, 245.82it/s, loss=-5.01, lr=0.00105]\n",
      "100%|██████████| 18/18 [00:00<00:00, 247.75it/s, loss=-5.04, lr=0.000994]\n",
      "100%|██████████| 18/18 [00:00<00:00, 225.07it/s, loss=-5.05, lr=0.000945]\n",
      "100%|██████████| 18/18 [00:00<00:00, 230.40it/s, loss=-5.06, lr=0.000897]\n",
      "100%|██████████| 18/18 [00:00<00:00, 228.12it/s, loss=-5.08, lr=0.000853]\n",
      "100%|██████████| 18/18 [00:00<00:00, 225.96it/s, loss=-5.08, lr=0.00081]\n"
     ]
    }
   ],
   "execution_count": 194
  },
  {
   "metadata": {
    "ExecuteTime": {
     "end_time": "2025-03-02T14:25:34.071103Z",
     "start_time": "2025-03-02T14:25:34.039336Z"
    }
   },
   "cell_type": "code",
   "source": [
    "mlp.eval()\n",
    "for i in range(10):\n",
    "    x_test = train_x_1[i].unsqueeze(0)\n",
    "    y_test = train_y_1[i].unsqueeze(0)\n",
    "    output = mlp(x_test)\n",
    "    print(y_test[0].item().__round__(2), '=>', output[0].item().__round__(3), output[1].item().__round__(3))"
   ],
   "id": "ff699d2886657896",
   "outputs": [
    {
     "name": "stdout",
     "output_type": "stream",
     "text": [
      "-0.28 => -0.284 -10.836\n",
      "-1.27 => -1.268 -11.312\n",
      "-0.44 => -0.441 -10.808\n",
      "-0.3 => -0.303 -10.807\n",
      "-0.57 => -0.573 -10.687\n",
      "-0.86 => -0.86 -11.019\n",
      "1.49 => 1.463 -10.358\n",
      "-0.82 => -0.819 -10.872\n",
      "1.07 => 1.067 -10.511\n",
      "2.14 => 2.148 -10.406\n"
     ]
    }
   ],
   "execution_count": 195
  },
  {
   "metadata": {
    "ExecuteTime": {
     "end_time": "2025-03-02T14:38:27.984052Z",
     "start_time": "2025-03-02T14:38:27.974066Z"
    }
   },
   "cell_type": "code",
   "source": "torch.save(mlp.state_dict(), 'models/torque_target_stochastic_mlp.pt')",
   "id": "ed37a8ffc34c474d",
   "outputs": [],
   "execution_count": 231
  }
 ],
 "metadata": {
  "kernelspec": {
   "display_name": "Python 3",
   "language": "python",
   "name": "python3"
  },
  "language_info": {
   "codemirror_mode": {
    "name": "ipython",
    "version": 2
   },
   "file_extension": ".py",
   "mimetype": "text/x-python",
   "name": "python",
   "nbconvert_exporter": "python",
   "pygments_lexer": "ipython2",
   "version": "2.7.6"
  }
 },
 "nbformat": 4,
 "nbformat_minor": 5
}
