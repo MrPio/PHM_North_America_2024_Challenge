{
 "cells": [
  {
   "cell_type": "code",
   "id": "initial_id",
   "metadata": {
    "collapsed": true,
    "ExecuteTime": {
     "end_time": "2025-03-02T13:22:38.698264Z",
     "start_time": "2025-03-02T13:22:25.160222Z"
    }
   },
   "source": [
    "\n",
    "\n",
    "import numpy as np\n",
    "import pandas as pd\n",
    "import torch\n",
    "from kan import KAN as PyKAN\n",
    "from torch import nn, optim\n",
    "from tqdm import tqdm\n",
    "\n",
    "from efficient_kan.kan import KAN as EffKAN\n",
    "\n",
    "device = torch.device(\"cuda\" if torch.cuda.is_available() else \"cpu\")\n",
    "device"
   ],
   "outputs": [
    {
     "data": {
      "text/plain": [
       "device(type='cuda')"
      ]
     },
     "execution_count": 1,
     "metadata": {},
     "output_type": "execute_result"
    }
   ],
   "execution_count": 1
  },
  {
   "metadata": {},
   "cell_type": "markdown",
   "source": "### Load dataset",
   "id": "95ee109d8d9789d3"
  },
  {
   "metadata": {
    "ExecuteTime": {
     "end_time": "2025-03-02T13:22:38.714014Z",
     "start_time": "2025-03-02T13:22:38.703825Z"
    }
   },
   "cell_type": "code",
   "source": [
    "def create_dataset(train_x: torch.Tensor, train_y: torch.Tensor, test_size=0.3):\n",
    "    indices = torch.randperm(train_x.shape[0])\n",
    "    test_size = int(train_x.shape[0] * test_size)\n",
    "    test_indices, train_indices = indices[:test_size], indices[test_size:]\n",
    "    return {'train_input': train_x[train_indices].to(device), 'test_input': train_x[test_indices].to(device),\n",
    "            'train_label': train_y[train_indices].to(device), 'test_label': train_y[test_indices].to(device)}"
   ],
   "id": "c67062c073ebd6f8",
   "outputs": [],
   "execution_count": 2
  },
  {
   "metadata": {
    "ExecuteTime": {
     "end_time": "2025-03-02T14:21:08.116953Z",
     "start_time": "2025-03-02T14:21:07.397714Z"
    }
   },
   "cell_type": "code",
   "source": [
    "USE_SYNTHETIC_DATASET = False  # Generated with 2-Synthetic_Dataset.ipynb\n",
    "\n",
    "if USE_SYNTHETIC_DATASET:\n",
    "    df = pd.read_csv('dataset/synthetic.csv')\n",
    "    df_normalized = (df - df.mean()) / df.std()\n",
    "    df_x_normalized = df_normalized.drop(columns=['label'])\n",
    "    df_y_normalized = df_normalized['label']\n",
    "else:\n",
    "    df_x = pd.read_csv('dataset/X_train.csv').drop(columns=['id'])\n",
    "    df_y = pd.read_csv('dataset/y_train.csv').drop(columns=['id', 'faulty'])\n",
    "    df_y['trq_target'] = df_x['trq_measured'] / (df_y['trq_margin'] / 100 + 1)\n",
    "    df_x_normalized = (df_x - df_x.mean()) / df_x.std()\n",
    "    df_y_normalized = (df_y['trq_target'] - df_y['trq_target'].mean()) / df_y['trq_target'].std()\n",
    "    df_x_normalized.drop(columns=['trq_measured'], inplace=True)\n",
    "\n",
    "train_x_1 = torch.tensor(df_x_normalized.values, dtype=torch.float32, device=device)\n",
    "train_y_1 = torch.tensor(df_y_normalized.values, dtype=torch.float32, device=device).unsqueeze(1)\n",
    "assert (train_x_1.shape[0] == train_y_1.shape[0])"
   ],
   "id": "c58876efec7eafae",
   "outputs": [],
   "execution_count": 157
  },
  {
   "metadata": {
    "ExecuteTime": {
     "end_time": "2025-03-02T14:21:08.180241Z",
     "start_time": "2025-03-02T14:21:08.121400Z"
    }
   },
   "cell_type": "code",
   "source": [
    "# Downsample to 10%\n",
    "random_indices = np.random.choice(train_x_1.shape[0], size=train_x_1.shape[0] // 10, replace=False)\n",
    "train_x_10 = train_x_1[random_indices]\n",
    "train_y_10 = train_y_1[random_indices]\n",
    "# Downsample to 1%\n",
    "random_indices = np.random.choice(train_x_1.shape[0], size=train_x_1.shape[0] // 100, replace=False)\n",
    "train_x_100 = train_x_1[random_indices]\n",
    "train_y_100 = train_y_1[random_indices]"
   ],
   "id": "66ff76bc2b090985",
   "outputs": [],
   "execution_count": 158
  },
  {
   "metadata": {
    "ExecuteTime": {
     "end_time": "2025-03-02T15:24:07.055463Z",
     "start_time": "2025-03-02T15:24:07.039244Z"
    }
   },
   "cell_type": "code",
   "source": [
    "def train(model, optimizer, inputs: torch.Tensor, labels, epochs=5, batch_size=100, deterministic=False):\n",
    "    criterion_stochastic = nn.GaussianNLLLoss(reduction='mean')\n",
    "    criterion_deterministic = nn.MSELoss()\n",
    "    scheduler = optim.lr_scheduler.ExponentialLR(optimizer, gamma=0.97)\n",
    "    for epoch in range(epochs):\n",
    "        model.train()\n",
    "        with tqdm(range(inputs.size(0) // batch_size)) as pbar:\n",
    "            for i in pbar:\n",
    "                x = inputs[i * batch_size:(i + 1) * batch_size]\n",
    "                y = labels[i * batch_size:(i + 1) * batch_size]\n",
    "                optimizer.zero_grad()\n",
    "                if deterministic:\n",
    "                    output = model(x)\n",
    "                    loss = criterion_deterministic(output, y)\n",
    "                else:\n",
    "                    mu, log_var = model(x)\n",
    "                    loss = criterion_stochastic(mu, y.squeeze(), torch.exp(log_var))\n",
    "                loss.backward()\n",
    "                optimizer.step(closure=lambda: loss)\n",
    "                pbar.set_postfix(loss=loss.item(), lr=optimizer.param_groups[0]['lr'])\n",
    "        scheduler.step()"
   ],
   "id": "8c791f8ed54ecd1a",
   "outputs": [],
   "execution_count": 337
  },
  {
   "metadata": {},
   "cell_type": "markdown",
   "source": "### Train the KAN",
   "id": "7f990b42318da4bc"
  },
  {
   "metadata": {
    "ExecuteTime": {
     "end_time": "2025-03-02T15:18:35.123719Z",
     "start_time": "2025-03-02T15:18:35.108995Z"
    }
   },
   "cell_type": "code",
   "source": [
    "class Py_KAN(nn.Module):\n",
    "    def __init__(self, layers, grid_size=8):\n",
    "        super(Py_KAN, self).__init__()\n",
    "        self.model = PyKAN(width=layers, grid=grid_size, k=3, device=device)\n",
    "\n",
    "    def forward(self, x):\n",
    "        x = self.model(x)\n",
    "        mu = x[:, 0]\n",
    "        var = x[:, 1]\n",
    "        return mu, var"
   ],
   "id": "2d0bc35334398811",
   "outputs": [],
   "execution_count": 330
  },
  {
   "metadata": {
    "ExecuteTime": {
     "end_time": "2025-03-02T15:24:21.044665Z",
     "start_time": "2025-03-02T15:24:21.015702Z"
    }
   },
   "cell_type": "code",
   "source": "pyKAN = Py_KAN(layers=[6, 1, 2], grid_size=2)",
   "id": "f3dc7e0fdc7a4801",
   "outputs": [
    {
     "name": "stdout",
     "output_type": "stream",
     "text": [
      "checkpoint directory created: ./model\n",
      "saving model version 0.0\n"
     ]
    }
   ],
   "execution_count": 338
  },
  {
   "metadata": {
    "ExecuteTime": {
     "end_time": "2025-03-02T15:25:36.045313Z",
     "start_time": "2025-03-02T15:25:15.315425Z"
    }
   },
   "cell_type": "code",
   "source": [
    "train(pyKAN, optim.Adam(pyKAN.parameters(), lr=0.001), train_x_10, train_y_10, epochs=100,\n",
    "      batch_size=4096 * 2)"
   ],
   "id": "87aa4f6784a01b72",
   "outputs": [
    {
     "name": "stderr",
     "output_type": "stream",
     "text": [
      "100%|██████████| 9/9 [00:00<00:00, 26.47it/s, loss=-3.38, lr=0.001]\n",
      "100%|██████████| 9/9 [00:00<00:00, 35.34it/s, loss=-3.46, lr=0.00097]\n",
      "100%|██████████| 9/9 [00:00<00:00, 37.88it/s, loss=-3.5, lr=0.000941] \n",
      "100%|██████████| 9/9 [00:00<00:00, 38.73it/s, loss=-3.51, lr=0.000913]\n",
      "100%|██████████| 9/9 [00:00<00:00, 38.57it/s, loss=-3.52, lr=0.000885]\n",
      "100%|██████████| 9/9 [00:00<00:00, 36.01it/s, loss=-3.52, lr=0.000859]\n",
      "100%|██████████| 9/9 [00:00<00:00, 36.74it/s, loss=-3.52, lr=0.000833]\n",
      "100%|██████████| 9/9 [00:00<00:00, 38.64it/s, loss=-3.52, lr=0.000808]\n",
      "100%|██████████| 9/9 [00:00<00:00, 36.92it/s, loss=-3.53, lr=0.000784]\n",
      "100%|██████████| 9/9 [00:00<00:00, 39.19it/s, loss=-3.53, lr=0.00076]\n",
      "100%|██████████| 9/9 [00:00<00:00, 39.94it/s, loss=-3.53, lr=0.000737]\n",
      "100%|██████████| 9/9 [00:00<00:00, 37.43it/s, loss=-3.53, lr=0.000715]\n",
      "100%|██████████| 9/9 [00:00<00:00, 39.19it/s, loss=-3.53, lr=0.000694]\n",
      "100%|██████████| 9/9 [00:00<00:00, 40.01it/s, loss=-3.53, lr=0.000673]\n",
      "100%|██████████| 9/9 [00:00<00:00, 40.95it/s, loss=-3.54, lr=0.000653]\n",
      "100%|██████████| 9/9 [00:00<00:00, 40.91it/s, loss=-3.54, lr=0.000633]\n",
      "100%|██████████| 9/9 [00:00<00:00, 39.12it/s, loss=-3.54, lr=0.000614]\n",
      "100%|██████████| 9/9 [00:00<00:00, 37.49it/s, loss=-3.54, lr=0.000596]\n",
      "100%|██████████| 9/9 [00:00<00:00, 40.02it/s, loss=-3.54, lr=0.000578]\n",
      "100%|██████████| 9/9 [00:00<00:00, 37.89it/s, loss=-3.54, lr=0.000561]\n",
      "100%|██████████| 9/9 [00:00<00:00, 38.65it/s, loss=-3.54, lr=0.000544]\n",
      "100%|██████████| 9/9 [00:00<00:00, 40.05it/s, loss=-3.54, lr=0.000527]\n",
      "100%|██████████| 9/9 [00:00<00:00, 35.97it/s, loss=-3.55, lr=0.000512]\n",
      "100%|██████████| 9/9 [00:00<00:00, 37.53it/s, loss=-3.55, lr=0.000496]\n",
      "100%|██████████| 9/9 [00:00<00:00, 38.25it/s, loss=-3.55, lr=0.000481]\n",
      "100%|██████████| 9/9 [00:00<00:00, 39.11it/s, loss=-3.55, lr=0.000467]\n",
      "100%|██████████| 9/9 [00:00<00:00, 39.18it/s, loss=-3.55, lr=0.000453]\n",
      "100%|██████████| 9/9 [00:00<00:00, 39.99it/s, loss=-3.55, lr=0.000439]\n",
      "100%|██████████| 9/9 [00:00<00:00, 40.00it/s, loss=-3.55, lr=0.000426]\n",
      "100%|██████████| 9/9 [00:00<00:00, 39.66it/s, loss=-3.55, lr=0.000413]\n",
      "100%|██████████| 9/9 [00:00<00:00, 40.07it/s, loss=-3.55, lr=0.000401]\n",
      "100%|██████████| 9/9 [00:00<00:00, 40.89it/s, loss=-3.55, lr=0.000389]\n",
      "100%|██████████| 9/9 [00:00<00:00, 39.16it/s, loss=-3.55, lr=0.000377]\n",
      "100%|██████████| 9/9 [00:00<00:00, 40.90it/s, loss=-3.55, lr=0.000366]\n",
      "100%|██████████| 9/9 [00:00<00:00, 39.09it/s, loss=-3.56, lr=0.000355]\n",
      "100%|██████████| 9/9 [00:00<00:00, 40.92it/s, loss=-3.56, lr=0.000344]\n",
      "100%|██████████| 9/9 [00:00<00:00, 36.73it/s, loss=-3.56, lr=0.000334]\n",
      "100%|██████████| 9/9 [00:00<00:00, 39.35it/s, loss=-3.56, lr=0.000324]\n",
      "100%|██████████| 9/9 [00:00<00:00, 39.13it/s, loss=-3.56, lr=0.000314]\n",
      "100%|██████████| 9/9 [00:00<00:00, 34.63it/s, loss=-3.56, lr=0.000305]\n",
      "100%|██████████| 9/9 [00:00<00:00, 40.47it/s, loss=-3.56, lr=0.000296]\n",
      "100%|██████████| 9/9 [00:00<00:00, 40.07it/s, loss=-3.56, lr=0.000287]\n",
      "100%|██████████| 9/9 [00:00<00:00, 37.50it/s, loss=-3.56, lr=0.000278]\n",
      "100%|██████████| 9/9 [00:00<00:00, 37.23it/s, loss=-3.56, lr=0.00027]\n",
      "100%|██████████| 9/9 [00:00<00:00, 39.38it/s, loss=-3.56, lr=0.000262]\n",
      "100%|██████████| 9/9 [00:00<00:00, 39.14it/s, loss=-3.56, lr=0.000254]\n",
      "100%|██████████| 9/9 [00:00<00:00, 36.40it/s, loss=-3.56, lr=0.000246]\n",
      "100%|██████████| 9/9 [00:00<00:00, 39.56it/s, loss=-3.56, lr=0.000239]\n",
      "100%|██████████| 9/9 [00:00<00:00, 37.60it/s, loss=-3.56, lr=0.000232]\n",
      "100%|██████████| 9/9 [00:00<00:00, 39.99it/s, loss=-3.56, lr=0.000225]\n",
      "100%|██████████| 9/9 [00:00<00:00, 40.04it/s, loss=-3.56, lr=0.000218]\n",
      "100%|██████████| 9/9 [00:00<00:00, 38.30it/s, loss=-3.56, lr=0.000212]\n",
      "100%|██████████| 9/9 [00:00<00:00, 38.25it/s, loss=-3.56, lr=0.000205]\n",
      "100%|██████████| 9/9 [00:00<00:00, 40.94it/s, loss=-3.57, lr=0.000199]\n",
      "100%|██████████| 9/9 [00:00<00:00, 36.02it/s, loss=-3.57, lr=0.000193]\n",
      "100%|██████████| 9/9 [00:00<00:00, 37.51it/s, loss=-3.57, lr=0.000187]\n",
      "100%|██████████| 9/9 [00:00<00:00, 35.97it/s, loss=-3.57, lr=0.000182]\n",
      "100%|██████████| 9/9 [00:00<00:00, 34.58it/s, loss=-3.57, lr=0.000176]\n",
      "100%|██████████| 9/9 [00:00<00:00, 37.40it/s, loss=-3.57, lr=0.000171]\n",
      "100%|██████████| 9/9 [00:00<00:00, 38.03it/s, loss=-3.57, lr=0.000166]\n",
      "100%|██████████| 9/9 [00:00<00:00, 39.17it/s, loss=-3.57, lr=0.000161]\n",
      "100%|██████████| 9/9 [00:00<00:00, 33.59it/s, loss=-3.57, lr=0.000156]\n",
      "100%|██████████| 9/9 [00:00<00:00, 33.11it/s, loss=-3.57, lr=0.000151]\n",
      "100%|██████████| 9/9 [00:00<00:00, 29.22it/s, loss=-3.57, lr=0.000147]\n",
      "100%|██████████| 9/9 [00:00<00:00, 36.71it/s, loss=-3.57, lr=0.000142]\n",
      "100%|██████████| 9/9 [00:00<00:00, 40.01it/s, loss=-3.57, lr=0.000138]\n",
      "100%|██████████| 9/9 [00:00<00:00, 37.88it/s, loss=-3.57, lr=0.000134]\n",
      "100%|██████████| 9/9 [00:00<00:00, 37.53it/s, loss=-3.57, lr=0.00013]\n",
      "100%|██████████| 9/9 [00:00<00:00, 35.94it/s, loss=-3.57, lr=0.000126]\n",
      "100%|██████████| 9/9 [00:00<00:00, 37.51it/s, loss=-3.57, lr=0.000122]\n",
      "100%|██████████| 9/9 [00:00<00:00, 37.49it/s, loss=-3.57, lr=0.000119]\n",
      "100%|██████████| 9/9 [00:00<00:00, 39.20it/s, loss=-3.57, lr=0.000115]\n",
      "100%|██████████| 9/9 [00:00<00:00, 37.48it/s, loss=-3.57, lr=0.000112]\n",
      "100%|██████████| 9/9 [00:00<00:00, 37.46it/s, loss=-3.57, lr=0.000108]\n",
      "100%|██████████| 9/9 [00:00<00:00, 39.06it/s, loss=-3.57, lr=0.000105]\n",
      "100%|██████████| 9/9 [00:00<00:00, 37.51it/s, loss=-3.57, lr=0.000102]\n",
      "100%|██████████| 9/9 [00:00<00:00, 36.55it/s, loss=-3.57, lr=9.88e-5]\n",
      "100%|██████████| 9/9 [00:00<00:00, 36.46it/s, loss=-3.57, lr=9.58e-5]\n",
      "100%|██████████| 9/9 [00:00<00:00, 35.79it/s, loss=-3.57, lr=9.29e-5]\n",
      "100%|██████████| 9/9 [00:00<00:00, 38.80it/s, loss=-3.57, lr=9.02e-5]\n",
      "100%|██████████| 9/9 [00:00<00:00, 39.48it/s, loss=-3.57, lr=8.74e-5]\n",
      "100%|██████████| 9/9 [00:00<00:00, 37.52it/s, loss=-3.57, lr=8.48e-5]\n",
      "100%|██████████| 9/9 [00:00<00:00, 39.17it/s, loss=-3.57, lr=8.23e-5]\n",
      "100%|██████████| 9/9 [00:00<00:00, 39.41it/s, loss=-3.57, lr=7.98e-5]\n",
      "100%|██████████| 9/9 [00:00<00:00, 39.10it/s, loss=-3.57, lr=7.74e-5]\n",
      "100%|██████████| 9/9 [00:00<00:00, 40.02it/s, loss=-3.57, lr=7.51e-5]\n",
      " 33%|███▎      | 3/9 [00:00<00:00, 30.01it/s, loss=-3.52, lr=7.28e-5]\n"
     ]
    },
    {
     "ename": "KeyboardInterrupt",
     "evalue": "",
     "output_type": "error",
     "traceback": [
      "\u001B[1;31m---------------------------------------------------------------------------\u001B[0m",
      "\u001B[1;31mKeyboardInterrupt\u001B[0m                         Traceback (most recent call last)",
      "Cell \u001B[1;32mIn[341], line 1\u001B[0m\n\u001B[1;32m----> 1\u001B[0m \u001B[43mtrain\u001B[49m\u001B[43m(\u001B[49m\u001B[43mpyKAN\u001B[49m\u001B[43m,\u001B[49m\u001B[43m \u001B[49m\u001B[43moptim\u001B[49m\u001B[38;5;241;43m.\u001B[39;49m\u001B[43mAdam\u001B[49m\u001B[43m(\u001B[49m\u001B[43mpyKAN\u001B[49m\u001B[38;5;241;43m.\u001B[39;49m\u001B[43mparameters\u001B[49m\u001B[43m(\u001B[49m\u001B[43m)\u001B[49m\u001B[43m,\u001B[49m\u001B[43m \u001B[49m\u001B[43mlr\u001B[49m\u001B[38;5;241;43m=\u001B[39;49m\u001B[38;5;241;43m0.001\u001B[39;49m\u001B[43m)\u001B[49m\u001B[43m,\u001B[49m\u001B[43m \u001B[49m\u001B[43mtrain_x_10\u001B[49m\u001B[43m,\u001B[49m\u001B[43m \u001B[49m\u001B[43mtrain_y_10\u001B[49m\u001B[43m,\u001B[49m\u001B[43m \u001B[49m\u001B[43mepochs\u001B[49m\u001B[38;5;241;43m=\u001B[39;49m\u001B[38;5;241;43m100\u001B[39;49m\u001B[43m,\u001B[49m\n\u001B[0;32m      2\u001B[0m \u001B[43m      \u001B[49m\u001B[43mbatch_size\u001B[49m\u001B[38;5;241;43m=\u001B[39;49m\u001B[38;5;241;43m4096\u001B[39;49m\u001B[43m \u001B[49m\u001B[38;5;241;43m*\u001B[39;49m\u001B[43m \u001B[49m\u001B[38;5;241;43m2\u001B[39;49m\u001B[43m)\u001B[49m\n",
      "Cell \u001B[1;32mIn[337], line 18\u001B[0m, in \u001B[0;36mtrain\u001B[1;34m(model, optimizer, inputs, labels, epochs, batch_size, deterministic)\u001B[0m\n\u001B[0;32m     16\u001B[0m     mu, log_var \u001B[38;5;241m=\u001B[39m model(x)\n\u001B[0;32m     17\u001B[0m     loss \u001B[38;5;241m=\u001B[39m criterion_stochastic(mu, y\u001B[38;5;241m.\u001B[39msqueeze(), torch\u001B[38;5;241m.\u001B[39mexp(log_var))\n\u001B[1;32m---> 18\u001B[0m \u001B[43mloss\u001B[49m\u001B[38;5;241;43m.\u001B[39;49m\u001B[43mbackward\u001B[49m\u001B[43m(\u001B[49m\u001B[43m)\u001B[49m\n\u001B[0;32m     19\u001B[0m optimizer\u001B[38;5;241m.\u001B[39mstep(closure\u001B[38;5;241m=\u001B[39m\u001B[38;5;28;01mlambda\u001B[39;00m: loss)\n\u001B[0;32m     20\u001B[0m pbar\u001B[38;5;241m.\u001B[39mset_postfix(loss\u001B[38;5;241m=\u001B[39mloss\u001B[38;5;241m.\u001B[39mitem(), lr\u001B[38;5;241m=\u001B[39moptimizer\u001B[38;5;241m.\u001B[39mparam_groups[\u001B[38;5;241m0\u001B[39m][\u001B[38;5;124m'\u001B[39m\u001B[38;5;124mlr\u001B[39m\u001B[38;5;124m'\u001B[39m])\n",
      "File \u001B[1;32m~\\AppData\\Local\\Programs\\Python\\Python310\\lib\\site-packages\\torch\\_tensor.py:521\u001B[0m, in \u001B[0;36mTensor.backward\u001B[1;34m(self, gradient, retain_graph, create_graph, inputs)\u001B[0m\n\u001B[0;32m    511\u001B[0m \u001B[38;5;28;01mif\u001B[39;00m has_torch_function_unary(\u001B[38;5;28mself\u001B[39m):\n\u001B[0;32m    512\u001B[0m     \u001B[38;5;28;01mreturn\u001B[39;00m handle_torch_function(\n\u001B[0;32m    513\u001B[0m         Tensor\u001B[38;5;241m.\u001B[39mbackward,\n\u001B[0;32m    514\u001B[0m         (\u001B[38;5;28mself\u001B[39m,),\n\u001B[1;32m   (...)\u001B[0m\n\u001B[0;32m    519\u001B[0m         inputs\u001B[38;5;241m=\u001B[39minputs,\n\u001B[0;32m    520\u001B[0m     )\n\u001B[1;32m--> 521\u001B[0m \u001B[43mtorch\u001B[49m\u001B[38;5;241;43m.\u001B[39;49m\u001B[43mautograd\u001B[49m\u001B[38;5;241;43m.\u001B[39;49m\u001B[43mbackward\u001B[49m\u001B[43m(\u001B[49m\n\u001B[0;32m    522\u001B[0m \u001B[43m    \u001B[49m\u001B[38;5;28;43mself\u001B[39;49m\u001B[43m,\u001B[49m\u001B[43m \u001B[49m\u001B[43mgradient\u001B[49m\u001B[43m,\u001B[49m\u001B[43m \u001B[49m\u001B[43mretain_graph\u001B[49m\u001B[43m,\u001B[49m\u001B[43m \u001B[49m\u001B[43mcreate_graph\u001B[49m\u001B[43m,\u001B[49m\u001B[43m \u001B[49m\u001B[43minputs\u001B[49m\u001B[38;5;241;43m=\u001B[39;49m\u001B[43minputs\u001B[49m\n\u001B[0;32m    523\u001B[0m \u001B[43m\u001B[49m\u001B[43m)\u001B[49m\n",
      "File \u001B[1;32m~\\AppData\\Local\\Programs\\Python\\Python310\\lib\\site-packages\\torch\\autograd\\__init__.py:289\u001B[0m, in \u001B[0;36mbackward\u001B[1;34m(tensors, grad_tensors, retain_graph, create_graph, grad_variables, inputs)\u001B[0m\n\u001B[0;32m    284\u001B[0m     retain_graph \u001B[38;5;241m=\u001B[39m create_graph\n\u001B[0;32m    286\u001B[0m \u001B[38;5;66;03m# The reason we repeat the same comment below is that\u001B[39;00m\n\u001B[0;32m    287\u001B[0m \u001B[38;5;66;03m# some Python versions print out the first line of a multi-line function\u001B[39;00m\n\u001B[0;32m    288\u001B[0m \u001B[38;5;66;03m# calls in the traceback and some print out the last line\u001B[39;00m\n\u001B[1;32m--> 289\u001B[0m \u001B[43m_engine_run_backward\u001B[49m\u001B[43m(\u001B[49m\n\u001B[0;32m    290\u001B[0m \u001B[43m    \u001B[49m\u001B[43mtensors\u001B[49m\u001B[43m,\u001B[49m\n\u001B[0;32m    291\u001B[0m \u001B[43m    \u001B[49m\u001B[43mgrad_tensors_\u001B[49m\u001B[43m,\u001B[49m\n\u001B[0;32m    292\u001B[0m \u001B[43m    \u001B[49m\u001B[43mretain_graph\u001B[49m\u001B[43m,\u001B[49m\n\u001B[0;32m    293\u001B[0m \u001B[43m    \u001B[49m\u001B[43mcreate_graph\u001B[49m\u001B[43m,\u001B[49m\n\u001B[0;32m    294\u001B[0m \u001B[43m    \u001B[49m\u001B[43minputs\u001B[49m\u001B[43m,\u001B[49m\n\u001B[0;32m    295\u001B[0m \u001B[43m    \u001B[49m\u001B[43mallow_unreachable\u001B[49m\u001B[38;5;241;43m=\u001B[39;49m\u001B[38;5;28;43;01mTrue\u001B[39;49;00m\u001B[43m,\u001B[49m\n\u001B[0;32m    296\u001B[0m \u001B[43m    \u001B[49m\u001B[43maccumulate_grad\u001B[49m\u001B[38;5;241;43m=\u001B[39;49m\u001B[38;5;28;43;01mTrue\u001B[39;49;00m\u001B[43m,\u001B[49m\n\u001B[0;32m    297\u001B[0m \u001B[43m\u001B[49m\u001B[43m)\u001B[49m\n",
      "File \u001B[1;32m~\\AppData\\Local\\Programs\\Python\\Python310\\lib\\site-packages\\torch\\autograd\\graph.py:769\u001B[0m, in \u001B[0;36m_engine_run_backward\u001B[1;34m(t_outputs, *args, **kwargs)\u001B[0m\n\u001B[0;32m    767\u001B[0m     unregister_hooks \u001B[38;5;241m=\u001B[39m _register_logging_hooks_on_whole_graph(t_outputs)\n\u001B[0;32m    768\u001B[0m \u001B[38;5;28;01mtry\u001B[39;00m:\n\u001B[1;32m--> 769\u001B[0m     \u001B[38;5;28;01mreturn\u001B[39;00m Variable\u001B[38;5;241m.\u001B[39m_execution_engine\u001B[38;5;241m.\u001B[39mrun_backward(  \u001B[38;5;66;03m# Calls into the C++ engine to run the backward pass\u001B[39;00m\n\u001B[0;32m    770\u001B[0m         t_outputs, \u001B[38;5;241m*\u001B[39margs, \u001B[38;5;241m*\u001B[39m\u001B[38;5;241m*\u001B[39mkwargs\n\u001B[0;32m    771\u001B[0m     )  \u001B[38;5;66;03m# Calls into the C++ engine to run the backward pass\u001B[39;00m\n\u001B[0;32m    772\u001B[0m \u001B[38;5;28;01mfinally\u001B[39;00m:\n\u001B[0;32m    773\u001B[0m     \u001B[38;5;28;01mif\u001B[39;00m attach_logging_hooks:\n",
      "\u001B[1;31mKeyboardInterrupt\u001B[0m: "
     ]
    }
   ],
   "execution_count": 341
  },
  {
   "metadata": {
    "ExecuteTime": {
     "end_time": "2025-03-02T15:18:08.617988Z",
     "start_time": "2025-03-02T15:18:08.586963Z"
    }
   },
   "cell_type": "code",
   "source": "pyKAN.model.saveckpt('models/torque_target_stochastic_pykan.pt')",
   "id": "7b1c11d3ccba075b",
   "outputs": [],
   "execution_count": 329
  },
  {
   "metadata": {
    "ExecuteTime": {
     "end_time": "2025-03-02T15:25:40.917612Z",
     "start_time": "2025-03-02T15:25:39.645392Z"
    }
   },
   "cell_type": "code",
   "source": [
    "pyKAN.model.plot(scale=1, tick=False, in_vars=['oat', 'mgt', 'pa', 'ias', 'np', 'ng'], out_vars=['μ', 'σ'],\n",
    "                 varscale=0.75)"
   ],
   "id": "d86d3f7c768dcaeb",
   "outputs": [
    {
     "data": {
      "text/plain": [
       "<Figure size 1000x800 with 12 Axes>"
      ],
      "image/png": "[encoded data removed]"
     },
     "metadata": {},
     "output_type": "display_data"
    }
   ],
   "execution_count": 342
  },
  {
   "metadata": {
    "ExecuteTime": {
     "end_time": "2025-03-02T15:23:49.649801Z",
     "start_time": "2025-03-02T15:23:49.595671Z"
    }
   },
   "cell_type": "code",
   "source": [
    "y_test = train_y_1[0:3].squeeze()\n",
    "output = pyKAN(train_x_1[0:3])\n",
    "print(y_test.round(decimals=3))\n",
    "print('-------------------------')\n",
    "print(output[0].round(decimals=3))\n",
    "print(output[1].round(decimals=3))"
   ],
   "id": "dd1989f0587acc07",
   "outputs": [
    {
     "name": "stdout",
     "output_type": "stream",
     "text": [
      "tensor([-0.2830, -1.2670, -0.4440], device='cuda:0')\n",
      "-------------------------\n",
      "tensor([-0.2920, -1.2690, -0.4360], device='cuda:0', grad_fn=<RoundBackward1>)\n",
      "tensor([-8.7750, -8.3650, -8.9450], device='cuda:0', grad_fn=<RoundBackward1>)\n"
     ]
    }
   ],
   "execution_count": 336
  },
  {
   "metadata": {},
   "cell_type": "markdown",
   "source": "### Train the EfficientKAN",
   "id": "a815fbe81635ec07"
  },
  {
   "metadata": {
    "ExecuteTime": {
     "end_time": "2025-03-02T14:35:41.472673Z",
     "start_time": "2025-03-02T14:35:41.456931Z"
    }
   },
   "cell_type": "code",
   "source": [
    "class Efficient_KAN(nn.Module):\n",
    "    def __init__(self, layers, grid_size=8):\n",
    "        super(Efficient_KAN, self).__init__()\n",
    "        self.model = EffKAN(layers,\n",
    "                            grid_size=grid_size,\n",
    "                            # grid_eps=1,\n",
    "                            # scale_base=0,\n",
    "                            # sp_trainable=False,\n",
    "                            # sb_trainable=False,\n",
    "                            # enable_standalone_scale_spline=False\n",
    "                            ).to(device)\n",
    "\n",
    "    def forward(self, x):\n",
    "        # x = x / dataset_size * 2 - 1\n",
    "        # x = x.view(-1, self.layers[0])\n",
    "        x = self.model(x)\n",
    "        mu = x[:, 0]\n",
    "        var = x[:, 1]  #F.softplus(x[:, 1]) + 1e-6\n",
    "        return mu, var"
   ],
   "id": "99bf617d5532bdeb",
   "outputs": [],
   "execution_count": 225
  },
  {
   "metadata": {
    "ExecuteTime": {
     "end_time": "2025-03-02T14:35:41.863595Z",
     "start_time": "2025-03-02T14:35:41.844950Z"
    }
   },
   "cell_type": "code",
   "source": "efficientKAN = Efficient_KAN(layers=[6, 6, 2], grid_size=5)",
   "id": "1fa1db4918aa6db2",
   "outputs": [],
   "execution_count": 226
  },
  {
   "metadata": {
    "ExecuteTime": {
     "end_time": "2025-03-02T14:35:51.550752Z",
     "start_time": "2025-03-02T14:35:43.227468Z"
    }
   },
   "cell_type": "code",
   "source": [
    "train(efficientKAN, optim.Adam(efficientKAN.parameters(), lr=0.01), train_x_1, train_y_1, epochs=50,\n",
    "      batch_size=4096)"
   ],
   "id": "db45afe39c7556a9",
   "outputs": [
    {
     "name": "stderr",
     "output_type": "stream",
     "text": [
      "100%|██████████| 18/18 [00:00<00:00, 41.54it/s, loss=0.00653, lr=0.01]\n",
      "100%|██████████| 18/18 [00:00<00:00, 106.61it/s, loss=-0.717, lr=0.0095]\n",
      "100%|██████████| 18/18 [00:00<00:00, 107.39it/s, loss=-1.64, lr=0.00903]\n",
      "100%|██████████| 18/18 [00:00<00:00, 115.06it/s, loss=-2.07, lr=0.00857]\n",
      "100%|██████████| 18/18 [00:00<00:00, 99.40it/s, loss=-2.3, lr=0.00815]\n",
      "100%|██████████| 18/18 [00:00<00:00, 110.66it/s, loss=-2.42, lr=0.00774]\n",
      "100%|██████████| 18/18 [00:00<00:00, 112.53it/s, loss=-1.67, lr=0.00735]\n",
      "100%|██████████| 18/18 [00:00<00:00, 115.00it/s, loss=-2.62, lr=0.00698]\n",
      "100%|██████████| 18/18 [00:00<00:00, 111.91it/s, loss=-2.82, lr=0.00663]\n",
      "100%|██████████| 18/18 [00:00<00:00, 115.57it/s, loss=-2.31, lr=0.0063]\n",
      "100%|██████████| 18/18 [00:00<00:00, 112.41it/s, loss=-2.28, lr=0.00599]\n",
      "100%|██████████| 18/18 [00:00<00:00, 112.69it/s, loss=-2.49, lr=0.00569]\n",
      "100%|██████████| 18/18 [00:00<00:00, 112.53it/s, loss=-2.67, lr=0.0054]\n",
      "100%|██████████| 18/18 [00:00<00:00, 116.07it/s, loss=-2.79, lr=0.00513]\n",
      "100%|██████████| 18/18 [00:00<00:00, 116.08it/s, loss=-2.87, lr=0.00488]\n",
      "100%|██████████| 18/18 [00:00<00:00, 113.49it/s, loss=-2.92, lr=0.00463]\n",
      "100%|██████████| 18/18 [00:00<00:00, 116.07it/s, loss=-2.98, lr=0.0044]\n",
      "100%|██████████| 18/18 [00:00<00:00, 121.98it/s, loss=-3.04, lr=0.00418]\n",
      "100%|██████████| 18/18 [00:00<00:00, 107.49it/s, loss=-3.1, lr=0.00397] \n",
      "100%|██████████| 18/18 [00:00<00:00, 119.79it/s, loss=-3.15, lr=0.00377]\n",
      "100%|██████████| 18/18 [00:00<00:00, 112.76it/s, loss=-3.21, lr=0.00358]\n",
      "100%|██████████| 18/18 [00:00<00:00, 112.45it/s, loss=-3.26, lr=0.00341]\n",
      "100%|██████████| 18/18 [00:00<00:00, 119.84it/s, loss=-3.15, lr=0.00324]\n",
      "100%|██████████| 18/18 [00:00<00:00, 112.39it/s, loss=-3.35, lr=0.00307]\n",
      "100%|██████████| 18/18 [00:00<00:00, 112.23it/s, loss=-3.37, lr=0.00292]\n",
      "100%|██████████| 18/18 [00:00<00:00, 110.12it/s, loss=-3.4, lr=0.00277] \n",
      "100%|██████████| 18/18 [00:00<00:00, 108.50it/s, loss=-3.44, lr=0.00264]\n",
      "100%|██████████| 18/18 [00:00<00:00, 116.04it/s, loss=-3.48, lr=0.0025]\n",
      "100%|██████████| 18/18 [00:00<00:00, 109.13it/s, loss=-2.94, lr=0.00238]\n",
      "100%|██████████| 18/18 [00:00<00:00, 116.06it/s, loss=-3.42, lr=0.00226]\n",
      "100%|██████████| 18/18 [00:00<00:00, 120.01it/s, loss=-3.52, lr=0.00215]\n",
      "100%|██████████| 18/18 [00:00<00:00, 110.04it/s, loss=-3.57, lr=0.00204]\n",
      "100%|██████████| 18/18 [00:00<00:00, 103.09it/s, loss=-3.61, lr=0.00194]\n",
      "100%|██████████| 18/18 [00:00<00:00, 115.97it/s, loss=-3.65, lr=0.00184]\n",
      "100%|██████████| 18/18 [00:00<00:00, 112.69it/s, loss=-3.68, lr=0.00175]\n",
      "100%|██████████| 18/18 [00:00<00:00, 123.99it/s, loss=-3.68, lr=0.00166]\n",
      "100%|██████████| 18/18 [00:00<00:00, 119.69it/s, loss=-3.69, lr=0.00158]\n",
      "100%|██████████| 18/18 [00:00<00:00, 120.34it/s, loss=-3.74, lr=0.0015]\n",
      "100%|██████████| 18/18 [00:00<00:00, 117.76it/s, loss=-3.76, lr=0.00142]\n",
      "100%|██████████| 18/18 [00:00<00:00, 106.39it/s, loss=-3.78, lr=0.00135]\n",
      "100%|██████████| 18/18 [00:00<00:00, 113.67it/s, loss=-3.81, lr=0.00129]\n",
      "100%|██████████| 18/18 [00:00<00:00, 109.29it/s, loss=-3.77, lr=0.00122]\n",
      "100%|██████████| 18/18 [00:00<00:00, 120.10it/s, loss=-3.83, lr=0.00116]\n",
      "100%|██████████| 18/18 [00:00<00:00, 114.95it/s, loss=-3.86, lr=0.0011]\n",
      "100%|██████████| 18/18 [00:00<00:00, 118.52it/s, loss=-3.87, lr=0.00105]\n",
      "100%|██████████| 18/18 [00:00<00:00, 107.11it/s, loss=-3.89, lr=0.000994]\n",
      "100%|██████████| 18/18 [00:00<00:00, 112.58it/s, loss=-3.87, lr=0.000945]\n",
      "100%|██████████| 18/18 [00:00<00:00, 112.38it/s, loss=-3.92, lr=0.000897]\n",
      "100%|██████████| 18/18 [00:00<00:00, 114.38it/s, loss=-3.92, lr=0.000853]\n",
      "100%|██████████| 18/18 [00:00<00:00, 111.18it/s, loss=-3.92, lr=0.00081]\n"
     ]
    }
   ],
   "execution_count": 227
  },
  {
   "metadata": {
    "ExecuteTime": {
     "end_time": "2025-03-02T14:37:33.466350Z",
     "start_time": "2025-03-02T14:37:33.450610Z"
    }
   },
   "cell_type": "code",
   "source": "torch.save(efficientKAN.model.state_dict(), 'models/torque_target_stochastic_effkan.pt')",
   "id": "1dc449d1409f5335",
   "outputs": [],
   "execution_count": 229
  },
  {
   "metadata": {
    "ExecuteTime": {
     "end_time": "2025-03-02T14:26:46.336574Z",
     "start_time": "2025-03-02T14:26:46.282994Z"
    }
   },
   "cell_type": "code",
   "source": [
    "efficientKAN.eval()\n",
    "for i in range(10):\n",
    "    x_test = train_x_1[i].unsqueeze(0)\n",
    "    y_test = train_y_1[i].unsqueeze(0)\n",
    "    output = efficientKAN(x_test)\n",
    "    print(y_test[0].item().__round__(2), '=>', output[0].item().__round__(3), output[1].item().__round__(3))"
   ],
   "id": "96c63221aae8a857",
   "outputs": [
    {
     "name": "stdout",
     "output_type": "stream",
     "text": [
      "-0.28 => -0.394 -1.851\n",
      "-1.27 => -1.271 -11.849\n",
      "-0.44 => -0.435 -10.134\n",
      "-0.3 => -0.317 -8.138\n",
      "-0.57 => -0.572 -12.036\n",
      "-0.86 => -0.857 -11.363\n",
      "1.49 => 1.842 -4.168\n",
      "-0.82 => -0.83 -7.416\n",
      "1.07 => 1.063 -6.2\n",
      "2.14 => 2.286 -3.543\n"
     ]
    }
   ],
   "execution_count": 206
  },
  {
   "metadata": {},
   "cell_type": "markdown",
   "source": "### MLP training",
   "id": "c45758c75340e0ee"
  },
  {
   "metadata": {
    "ExecuteTime": {
     "end_time": "2025-03-02T14:25:10.011687Z",
     "start_time": "2025-03-02T14:25:09.996625Z"
    }
   },
   "cell_type": "code",
   "source": [
    "class MLP(nn.Module):\n",
    "    def __init__(self, layers_size, deterministic=False):\n",
    "        super(MLP, self).__init__()\n",
    "        layers = []\n",
    "        for i in range(len(layers_size) - 1):\n",
    "            layers.append(nn.Linear(layers_size[i], layers_size[i + 1]))\n",
    "            if i < len(layers_size) - 2:  # Add activation for all layers except the last one\n",
    "                layers.append(nn.Sigmoid())\n",
    "        self.model = nn.Sequential(*layers)\n",
    "        self.deterministic = deterministic\n",
    "\n",
    "    def forward(self, x):\n",
    "        output = self.model(x)\n",
    "        if self.deterministic:\n",
    "            return output\n",
    "        else:\n",
    "            mu = output[:, 0]\n",
    "            var = output[:, 1]\n",
    "            return mu, var"
   ],
   "id": "9196b72f8ea42196",
   "outputs": [],
   "execution_count": 187
  },
  {
   "metadata": {
    "ExecuteTime": {
     "end_time": "2025-03-02T14:25:10.351151Z",
     "start_time": "2025-03-02T14:25:10.336998Z"
    }
   },
   "cell_type": "code",
   "source": "mlp = MLP([6, 256, 256, 2], deterministic=False).to(device)",
   "id": "e2d29fb417331c4b",
   "outputs": [],
   "execution_count": 188
  },
  {
   "metadata": {
    "ExecuteTime": {
     "end_time": "2025-03-02T14:25:30.255414Z",
     "start_time": "2025-03-02T14:25:26.076578Z"
    }
   },
   "cell_type": "code",
   "source": [
    "train(mlp, optim.Adam(mlp.parameters(), lr=.01), train_x_10, train_y_10, epochs=50,\n",
    "      batch_size=4096, deterministic=False)"
   ],
   "id": "981f03ef2059776a",
   "outputs": [
    {
     "name": "stderr",
     "output_type": "stream",
     "text": [
      "100%|██████████| 18/18 [00:00<00:00, 64.24it/s, loss=0.0361, lr=0.01] \n",
      "100%|██████████| 18/18 [00:00<00:00, 200.28it/s, loss=-0.73, lr=0.0095]\n",
      "100%|██████████| 18/18 [00:00<00:00, 197.69it/s, loss=-1.22, lr=0.00903]\n",
      "100%|██████████| 18/18 [00:00<00:00, 235.85it/s, loss=-1.58, lr=0.00857]\n",
      "100%|██████████| 18/18 [00:00<00:00, 225.53it/s, loss=-1.95, lr=0.00815]\n",
      "100%|██████████| 18/18 [00:00<00:00, 230.72it/s, loss=-2.3, lr=0.00774]\n",
      "100%|██████████| 18/18 [00:00<00:00, 262.65it/s, loss=-2.6, lr=0.00735]\n",
      "100%|██████████| 18/18 [00:00<00:00, 217.64it/s, loss=-2.88, lr=0.00698]\n",
      "100%|██████████| 18/18 [00:00<00:00, 247.11it/s, loss=-3.12, lr=0.00663]\n",
      "100%|██████████| 18/18 [00:00<00:00, 229.99it/s, loss=-3.34, lr=0.0063]\n",
      "100%|██████████| 18/18 [00:00<00:00, 253.07it/s, loss=-3.56, lr=0.00599]\n",
      "100%|██████████| 18/18 [00:00<00:00, 246.29it/s, loss=-3.71, lr=0.00569]\n",
      "100%|██████████| 18/18 [00:00<00:00, 227.69it/s, loss=-3.83, lr=0.0054]\n",
      "100%|██████████| 18/18 [00:00<00:00, 233.98it/s, loss=-3.9, lr=0.00513]\n",
      "100%|██████████| 18/18 [00:00<00:00, 221.51it/s, loss=-3.96, lr=0.00488]\n",
      "100%|██████████| 18/18 [00:00<00:00, 241.08it/s, loss=-4.2, lr=0.00463]\n",
      "100%|██████████| 18/18 [00:00<00:00, 237.69it/s, loss=-4.32, lr=0.0044]\n",
      "100%|██████████| 18/18 [00:00<00:00, 237.72it/s, loss=-4.38, lr=0.00418]\n",
      "100%|██████████| 18/18 [00:00<00:00, 231.74it/s, loss=-2.5, lr=0.00397]\n",
      "100%|██████████| 18/18 [00:00<00:00, 237.12it/s, loss=-4.24, lr=0.00377]\n",
      "100%|██████████| 18/18 [00:00<00:00, 222.37it/s, loss=-4.25, lr=0.00358]\n",
      "100%|██████████| 18/18 [00:00<00:00, 234.49it/s, loss=-4.38, lr=0.00341]\n",
      "100%|██████████| 18/18 [00:00<00:00, 253.21it/s, loss=-4.46, lr=0.00324]\n",
      "100%|██████████| 18/18 [00:00<00:00, 225.09it/s, loss=-4.54, lr=0.00307]\n",
      "100%|██████████| 18/18 [00:00<00:00, 224.60it/s, loss=-2.66, lr=0.00292]\n",
      "100%|██████████| 18/18 [00:00<00:00, 225.35it/s, loss=-4.44, lr=0.00277]\n",
      "100%|██████████| 18/18 [00:00<00:00, 219.30it/s, loss=-4.58, lr=0.00264]\n",
      "100%|██████████| 18/18 [00:00<00:00, 260.83it/s, loss=-4.66, lr=0.0025]\n",
      "100%|██████████| 18/18 [00:00<00:00, 241.93it/s, loss=-4.73, lr=0.00238]\n",
      "100%|██████████| 18/18 [00:00<00:00, 223.42it/s, loss=-4.56, lr=0.00226]\n",
      "100%|██████████| 18/18 [00:00<00:00, 256.98it/s, loss=-4.67, lr=0.00215]\n",
      "100%|██████████| 18/18 [00:00<00:00, 243.72it/s, loss=-4.72, lr=0.00204]\n",
      "100%|██████████| 18/18 [00:00<00:00, 224.81it/s, loss=-4.78, lr=0.00194]\n",
      "100%|██████████| 18/18 [00:00<00:00, 225.86it/s, loss=-4.83, lr=0.00184]\n",
      "100%|██████████| 18/18 [00:00<00:00, 224.30it/s, loss=-4.85, lr=0.00175]\n",
      "100%|██████████| 18/18 [00:00<00:00, 233.43it/s, loss=-4.89, lr=0.00166]\n",
      "100%|██████████| 18/18 [00:00<00:00, 255.28it/s, loss=-4.81, lr=0.00158]\n",
      "100%|██████████| 18/18 [00:00<00:00, 257.16it/s, loss=-4.91, lr=0.0015]\n",
      "100%|██████████| 18/18 [00:00<00:00, 224.86it/s, loss=-4.94, lr=0.00142]\n",
      "100%|██████████| 18/18 [00:00<00:00, 224.82it/s, loss=-4.93, lr=0.00135]\n",
      "100%|██████████| 18/18 [00:00<00:00, 243.39it/s, loss=-4.94, lr=0.00129]\n",
      "100%|██████████| 18/18 [00:00<00:00, 243.71it/s, loss=-4.94, lr=0.00122]\n",
      "100%|██████████| 18/18 [00:00<00:00, 224.76it/s, loss=-4.99, lr=0.00116]\n",
      "100%|██████████| 18/18 [00:00<00:00, 265.07it/s, loss=-5, lr=0.0011]\n",
      "100%|██████████| 18/18 [00:00<00:00, 245.82it/s, loss=-5.01, lr=0.00105]\n",
      "100%|██████████| 18/18 [00:00<00:00, 247.75it/s, loss=-5.04, lr=0.000994]\n",
      "100%|██████████| 18/18 [00:00<00:00, 225.07it/s, loss=-5.05, lr=0.000945]\n",
      "100%|██████████| 18/18 [00:00<00:00, 230.40it/s, loss=-5.06, lr=0.000897]\n",
      "100%|██████████| 18/18 [00:00<00:00, 228.12it/s, loss=-5.08, lr=0.000853]\n",
      "100%|██████████| 18/18 [00:00<00:00, 225.96it/s, loss=-5.08, lr=0.00081]\n"
     ]
    }
   ],
   "execution_count": 194
  },
  {
   "metadata": {
    "ExecuteTime": {
     "end_time": "2025-03-02T14:25:34.071103Z",
     "start_time": "2025-03-02T14:25:34.039336Z"
    }
   },
   "cell_type": "code",
   "source": [
    "mlp.eval()\n",
    "for i in range(10):\n",
    "    x_test = train_x_1[i].unsqueeze(0)\n",
    "    y_test = train_y_1[i].unsqueeze(0)\n",
    "    output = mlp(x_test)\n",
    "    print(y_test[0].item().__round__(2), '=>', output[0].item().__round__(3), output[1].item().__round__(3))"
   ],
   "id": "ff699d2886657896",
   "outputs": [
    {
     "name": "stdout",
     "output_type": "stream",
     "text": [
      "-0.28 => -0.284 -10.836\n",
      "-1.27 => -1.268 -11.312\n",
      "-0.44 => -0.441 -10.808\n",
      "-0.3 => -0.303 -10.807\n",
      "-0.57 => -0.573 -10.687\n",
      "-0.86 => -0.86 -11.019\n",
      "1.49 => 1.463 -10.358\n",
      "-0.82 => -0.819 -10.872\n",
      "1.07 => 1.067 -10.511\n",
      "2.14 => 2.148 -10.406\n"
     ]
    }
   ],
   "execution_count": 195
  },
  {
   "metadata": {
    "ExecuteTime": {
     "end_time": "2025-03-02T14:38:27.984052Z",
     "start_time": "2025-03-02T14:38:27.974066Z"
    }
   },
   "cell_type": "code",
   "source": "torch.save(mlp.state_dict(), 'models/torque_target_stochastic_mlp.pt')",
   "id": "ed37a8ffc34c474d",
   "outputs": [],
   "execution_count": 231
  }
 ],
 "metadata": {
  "kernelspec": {
   "display_name": "Python 3",
   "language": "python",
   "name": "python3"
  },
  "language_info": {
   "codemirror_mode": {
    "name": "ipython",
    "version": 2
   },
   "file_extension": ".py",
   "mimetype": "text/x-python",
   "name": "python",
   "nbconvert_exporter": "python",
   "pygments_lexer": "ipython2",
   "version": "2.7.6"
  }
 },
 "nbformat": 4,
 "nbformat_minor": 5
}
