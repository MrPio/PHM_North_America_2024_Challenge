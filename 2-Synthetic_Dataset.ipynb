{
 "cells": [
  {
   "metadata": {},
   "cell_type": "code",
   "outputs": [],
   "execution_count": null,
   "source": [
    "import numpy as np\n",
    "import pandas as pd\n",
    "from scipy.stats import multivariate_normal\n",
    "import  matplotlib.pyplot as plt"
   ],
   "id": "d92967612a113979"
  },
  {
   "metadata": {},
   "cell_type": "code",
   "outputs": [],
   "execution_count": null,
   "source": [
    "SAMPLES = 10_000\n",
    "\n",
    "x1 = np.random.uniform(-1, 1, SAMPLES)\n",
    "x2 = np.random.uniform(-1, 1, SAMPLES)\n",
    "x3 = np.random.uniform(-1, 1, SAMPLES)\n",
    "\n",
    "mv_normal = multivariate_normal(mean=np.zeros(3), cov=np.eye(3))\n",
    "label = mv_normal.pdf(np.column_stack((x1, x2, x3)))\n",
    "\n",
    "data = {\n",
    "    'x1': x1,\n",
    "    'x2': x2,\n",
    "    'x3': x3,\n",
    "    'label': label,\n",
    "}\n",
    "df = pd.DataFrame(data)\n",
    "fig, ax = plt.subplots(subplot_kw={\"projection\": \"3d\"}, figsize=(10, 10))\n",
    "ax.scatter(x1, x2,x3, c=label)\n",
    "df.to_csv('dataset/synthetic.csv', index=False)"
   ],
   "id": "8582848035980f79"
  }
 ],
 "metadata": {},
 "nbformat": 5,
 "nbformat_minor": 9
}
